{
  "nbformat": 4,
  "nbformat_minor": 0,
  "metadata": {
    "colab": {
      "provenance": [],
      "authorship_tag": "ABX9TyPc8WBxmkbWMUiNE233bdJE",
      "include_colab_link": true
    },
    "kernelspec": {
      "name": "python3",
      "display_name": "Python 3"
    },
    "language_info": {
      "name": "python"
    }
  },
  "cells": [
    {
      "cell_type": "markdown",
      "metadata": {
        "id": "view-in-github",
        "colab_type": "text"
      },
      "source": [
        "<a href=\"https://colab.research.google.com/github/2303A51094/AIML-2025/blob/main/LAB_AIML_4.ipynb\" target=\"_parent\"><img src=\"https://colab.research.google.com/assets/colab-badge.svg\" alt=\"Open In Colab\"/></a>"
      ]
    },
    {
      "cell_type": "markdown",
      "source": [
        "#1 Implement Linear Regression Model Using US Housing Data"
      ],
      "metadata": {
        "id": "6GIUHyZKW51x"
      }
    },
    {
      "cell_type": "markdown",
      "source": [
        "#Part 1 – Import the required Python, Pandas, Matplotlib, Seaborn packages."
      ],
      "metadata": {
        "id": "yyRi5XDZW9dU"
      }
    },
    {
      "cell_type": "markdown",
      "source": [
        "#1. Load the US Housing data into a dataframe using pandas"
      ],
      "metadata": {
        "id": "P1yBgJ2IXMtk"
      }
    },
    {
      "cell_type": "code",
      "source": [
        "import pandas as pd\n",
        "import matplotlib.pyplot as plt\n",
        "import seaborn as sns\n",
        "from sklearn.model_selection import train_test_split\n",
        "from sklearn.linear_model import LinearRegression\n",
        "from sklearn import metrics\n",
        "import statsmodels.api as sm\n",
        "from google.colab import files"
      ],
      "metadata": {
        "id": "gu3JThNMgpQW"
      },
      "execution_count": 1,
      "outputs": []
    },
    {
      "cell_type": "markdown",
      "source": [
        "  Part 1.1 - Upload the USA_Housing.csv file"
      ],
      "metadata": {
        "id": "Lrxt9HKDgtMI"
      }
    },
    {
      "cell_type": "code",
      "source": [
        "uploaded = files.upload()"
      ],
      "metadata": {
        "colab": {
          "base_uri": "https://localhost:8080/",
          "height": 73
        },
        "id": "CncbpurahFII",
        "outputId": "9fa13b53-1490-40d9-f03f-172564428c4a"
      },
      "execution_count": 2,
      "outputs": [
        {
          "output_type": "display_data",
          "data": {
            "text/plain": [
              "<IPython.core.display.HTML object>"
            ],
            "text/html": [
              "\n",
              "     <input type=\"file\" id=\"files-78e270f1-e38b-4ed5-8361-5eb996a00d5c\" name=\"files[]\" multiple disabled\n",
              "        style=\"border:none\" />\n",
              "     <output id=\"result-78e270f1-e38b-4ed5-8361-5eb996a00d5c\">\n",
              "      Upload widget is only available when the cell has been executed in the\n",
              "      current browser session. Please rerun this cell to enable.\n",
              "      </output>\n",
              "      <script>// Copyright 2017 Google LLC\n",
              "//\n",
              "// Licensed under the Apache License, Version 2.0 (the \"License\");\n",
              "// you may not use this file except in compliance with the License.\n",
              "// You may obtain a copy of the License at\n",
              "//\n",
              "//      http://www.apache.org/licenses/LICENSE-2.0\n",
              "//\n",
              "// Unless required by applicable law or agreed to in writing, software\n",
              "// distributed under the License is distributed on an \"AS IS\" BASIS,\n",
              "// WITHOUT WARRANTIES OR CONDITIONS OF ANY KIND, either express or implied.\n",
              "// See the License for the specific language governing permissions and\n",
              "// limitations under the License.\n",
              "\n",
              "/**\n",
              " * @fileoverview Helpers for google.colab Python module.\n",
              " */\n",
              "(function(scope) {\n",
              "function span(text, styleAttributes = {}) {\n",
              "  const element = document.createElement('span');\n",
              "  element.textContent = text;\n",
              "  for (const key of Object.keys(styleAttributes)) {\n",
              "    element.style[key] = styleAttributes[key];\n",
              "  }\n",
              "  return element;\n",
              "}\n",
              "\n",
              "// Max number of bytes which will be uploaded at a time.\n",
              "const MAX_PAYLOAD_SIZE = 100 * 1024;\n",
              "\n",
              "function _uploadFiles(inputId, outputId) {\n",
              "  const steps = uploadFilesStep(inputId, outputId);\n",
              "  const outputElement = document.getElementById(outputId);\n",
              "  // Cache steps on the outputElement to make it available for the next call\n",
              "  // to uploadFilesContinue from Python.\n",
              "  outputElement.steps = steps;\n",
              "\n",
              "  return _uploadFilesContinue(outputId);\n",
              "}\n",
              "\n",
              "// This is roughly an async generator (not supported in the browser yet),\n",
              "// where there are multiple asynchronous steps and the Python side is going\n",
              "// to poll for completion of each step.\n",
              "// This uses a Promise to block the python side on completion of each step,\n",
              "// then passes the result of the previous step as the input to the next step.\n",
              "function _uploadFilesContinue(outputId) {\n",
              "  const outputElement = document.getElementById(outputId);\n",
              "  const steps = outputElement.steps;\n",
              "\n",
              "  const next = steps.next(outputElement.lastPromiseValue);\n",
              "  return Promise.resolve(next.value.promise).then((value) => {\n",
              "    // Cache the last promise value to make it available to the next\n",
              "    // step of the generator.\n",
              "    outputElement.lastPromiseValue = value;\n",
              "    return next.value.response;\n",
              "  });\n",
              "}\n",
              "\n",
              "/**\n",
              " * Generator function which is called between each async step of the upload\n",
              " * process.\n",
              " * @param {string} inputId Element ID of the input file picker element.\n",
              " * @param {string} outputId Element ID of the output display.\n",
              " * @return {!Iterable<!Object>} Iterable of next steps.\n",
              " */\n",
              "function* uploadFilesStep(inputId, outputId) {\n",
              "  const inputElement = document.getElementById(inputId);\n",
              "  inputElement.disabled = false;\n",
              "\n",
              "  const outputElement = document.getElementById(outputId);\n",
              "  outputElement.innerHTML = '';\n",
              "\n",
              "  const pickedPromise = new Promise((resolve) => {\n",
              "    inputElement.addEventListener('change', (e) => {\n",
              "      resolve(e.target.files);\n",
              "    });\n",
              "  });\n",
              "\n",
              "  const cancel = document.createElement('button');\n",
              "  inputElement.parentElement.appendChild(cancel);\n",
              "  cancel.textContent = 'Cancel upload';\n",
              "  const cancelPromise = new Promise((resolve) => {\n",
              "    cancel.onclick = () => {\n",
              "      resolve(null);\n",
              "    };\n",
              "  });\n",
              "\n",
              "  // Wait for the user to pick the files.\n",
              "  const files = yield {\n",
              "    promise: Promise.race([pickedPromise, cancelPromise]),\n",
              "    response: {\n",
              "      action: 'starting',\n",
              "    }\n",
              "  };\n",
              "\n",
              "  cancel.remove();\n",
              "\n",
              "  // Disable the input element since further picks are not allowed.\n",
              "  inputElement.disabled = true;\n",
              "\n",
              "  if (!files) {\n",
              "    return {\n",
              "      response: {\n",
              "        action: 'complete',\n",
              "      }\n",
              "    };\n",
              "  }\n",
              "\n",
              "  for (const file of files) {\n",
              "    const li = document.createElement('li');\n",
              "    li.append(span(file.name, {fontWeight: 'bold'}));\n",
              "    li.append(span(\n",
              "        `(${file.type || 'n/a'}) - ${file.size} bytes, ` +\n",
              "        `last modified: ${\n",
              "            file.lastModifiedDate ? file.lastModifiedDate.toLocaleDateString() :\n",
              "                                    'n/a'} - `));\n",
              "    const percent = span('0% done');\n",
              "    li.appendChild(percent);\n",
              "\n",
              "    outputElement.appendChild(li);\n",
              "\n",
              "    const fileDataPromise = new Promise((resolve) => {\n",
              "      const reader = new FileReader();\n",
              "      reader.onload = (e) => {\n",
              "        resolve(e.target.result);\n",
              "      };\n",
              "      reader.readAsArrayBuffer(file);\n",
              "    });\n",
              "    // Wait for the data to be ready.\n",
              "    let fileData = yield {\n",
              "      promise: fileDataPromise,\n",
              "      response: {\n",
              "        action: 'continue',\n",
              "      }\n",
              "    };\n",
              "\n",
              "    // Use a chunked sending to avoid message size limits. See b/62115660.\n",
              "    let position = 0;\n",
              "    do {\n",
              "      const length = Math.min(fileData.byteLength - position, MAX_PAYLOAD_SIZE);\n",
              "      const chunk = new Uint8Array(fileData, position, length);\n",
              "      position += length;\n",
              "\n",
              "      const base64 = btoa(String.fromCharCode.apply(null, chunk));\n",
              "      yield {\n",
              "        response: {\n",
              "          action: 'append',\n",
              "          file: file.name,\n",
              "          data: base64,\n",
              "        },\n",
              "      };\n",
              "\n",
              "      let percentDone = fileData.byteLength === 0 ?\n",
              "          100 :\n",
              "          Math.round((position / fileData.byteLength) * 100);\n",
              "      percent.textContent = `${percentDone}% done`;\n",
              "\n",
              "    } while (position < fileData.byteLength);\n",
              "  }\n",
              "\n",
              "  // All done.\n",
              "  yield {\n",
              "    response: {\n",
              "      action: 'complete',\n",
              "    }\n",
              "  };\n",
              "}\n",
              "\n",
              "scope.google = scope.google || {};\n",
              "scope.google.colab = scope.google.colab || {};\n",
              "scope.google.colab._files = {\n",
              "  _uploadFiles,\n",
              "  _uploadFilesContinue,\n",
              "};\n",
              "})(self);\n",
              "</script> "
            ]
          },
          "metadata": {}
        },
        {
          "output_type": "stream",
          "name": "stdout",
          "text": [
            "Saving archive.zip to archive.zip\n"
          ]
        }
      ]
    },
    {
      "cell_type": "markdown",
      "source": [
        " Part 1.2 - Load the US Housing data into a dataframe using pandas"
      ],
      "metadata": {
        "id": "5gEiZQblhRm9"
      }
    },
    {
      "cell_type": "code",
      "source": [
        "df = pd.read_csv('USA_Housing.csv')"
      ],
      "metadata": {
        "id": "XDMy2wVdiFQr"
      },
      "execution_count": null,
      "outputs": []
    },
    {
      "cell_type": "markdown",
      "source": [
        "Part 1.3 - Check the data types of each feature(column) in the dataset"
      ],
      "metadata": {
        "id": "S70u0cztiHbm"
      }
    },
    {
      "cell_type": "code",
      "source": [
        "print(\"Data Types:\\n\", df.dtypes)"
      ],
      "metadata": {
        "id": "PRCavfsdiJat"
      },
      "execution_count": null,
      "outputs": []
    },
    {
      "cell_type": "markdown",
      "source": [
        "Part 1.4 - Generate a summary of the dataset for min, max, stddev, quartile values for 25%, 50%, 75%, 90%"
      ],
      "metadata": {
        "id": "g5lBb8GCiLeN"
      }
    },
    {
      "cell_type": "code",
      "source": [
        "print(\"Data Summary:\\n\", df.describe(percentiles=[.25, .5, .75, .9]))"
      ],
      "metadata": {
        "id": "apCaHJkPiOGS"
      },
      "execution_count": null,
      "outputs": []
    },
    {
      "cell_type": "markdown",
      "source": [
        "Part 1.5 - List the names of columns/features in the dataset"
      ],
      "metadata": {
        "id": "nlf7zlFziQmd"
      }
    },
    {
      "cell_type": "code",
      "source": [
        "print(\"Column Names:\\n\", df.columns"
      ],
      "metadata": {
        "id": "4TYLwYYFiTG3"
      },
      "execution_count": null,
      "outputs": []
    },
    {
      "cell_type": "markdown",
      "source": [
        "Part 1.6 - Generate a pairplot of the features of the datase"
      ],
      "metadata": {
        "id": "Hx7E8VgDiV7a"
      }
    },
    {
      "cell_type": "code",
      "source": [
        "sns.pairplot(df)\n",
        "plt.show()"
      ],
      "metadata": {
        "id": "FfxCXoBRiYMG"
      },
      "execution_count": null,
      "outputs": []
    },
    {
      "cell_type": "markdown",
      "source": [
        "Part 1.7 - Generate a correlation matrix and heatmap for the features"
      ],
      "metadata": {
        "id": "bnTpLbEZiZ44"
      }
    },
    {
      "cell_type": "code",
      "source": [
        "corr_matrix = df.corr()\n",
        "sns.heatmap(corr_matrix, annot=True, cmap='coolwarm')\n",
        "plt.show()"
      ],
      "metadata": {
        "id": "yhQ94Th2ic6a"
      },
      "execution_count": null,
      "outputs": []
    },
    {
      "cell_type": "markdown",
      "source": [
        "Part 1.8 - Create a list of dependent and independent variables to understand regression among the features"
      ],
      "metadata": {
        "id": "jVRbrx3Tihjj"
      }
    },
    {
      "cell_type": "code",
      "source": [
        "X = df[['Avg. Area Income', 'Avg. Area House Age', 'Avg. Area Number of Rooms', 'Avg. Area Number of Bedrooms', 'Area Population']]\n",
        "Y = df['Price']"
      ],
      "metadata": {
        "id": "NfcGvGg6ijya"
      },
      "execution_count": null,
      "outputs": []
    },
    {
      "cell_type": "markdown",
      "source": [
        "#Part 2 - Model Training and Fit the Data to Model"
      ],
      "metadata": {
        "id": "IX4mGZNLinFb"
      }
    },
    {
      "cell_type": "markdown",
      "source": [
        "Part 2.1 - Split the data into train and test sets"
      ],
      "metadata": {
        "id": "_nuQfFJyirsv"
      }
    },
    {
      "cell_type": "code",
      "source": [
        "X_train, X_test, Y_train, Y_test = train_test_split(X, Y, test_size=0.2, random_state=42)"
      ],
      "metadata": {
        "id": "WWfajmt0iuW5"
      },
      "execution_count": null,
      "outputs": []
    },
    {
      "cell_type": "markdown",
      "source": [
        "Part 2.2 - Apply the linear regression model of sklearn package"
      ],
      "metadata": {
        "id": "3r8HjqjNi04P"
      }
    },
    {
      "cell_type": "code",
      "source": [
        "model = LinearRegression()"
      ],
      "metadata": {
        "id": "cEutzP-ii2zl"
      },
      "execution_count": null,
      "outputs": []
    },
    {
      "cell_type": "markdown",
      "source": [
        "Part 2.3 - Fit the data to the Linear Model using fit"
      ],
      "metadata": {
        "id": "ZYcsein-i55k"
      }
    },
    {
      "cell_type": "code",
      "source": [
        "model.fit(X_train, Y_train)"
      ],
      "metadata": {
        "id": "CxUgX20Li9ic"
      },
      "execution_count": null,
      "outputs": []
    },
    {
      "cell_type": "markdown",
      "source": [
        "Part 2.4 - Check the intercepts and slope for the data and compute the cumulative distribution function (cdf)"
      ],
      "metadata": {
        "id": "55DbIKJ6i_U4"
      }
    },
    {
      "cell_type": "code",
      "source": [
        "intercept = model.intercept_\n",
        "coefficients = model.coef_\n",
        "print(f\"Intercept: {intercept}\")\n",
        "print(f\"Coefficients: {coefficients}\")\n"
      ],
      "metadata": {
        "id": "4gnugzEIjCHq"
      },
      "execution_count": null,
      "outputs": []
    },
    {
      "cell_type": "markdown",
      "source": [
        "#Part 3 – Model Evaluation Metrics"
      ],
      "metadata": {
        "id": "tC8g8VRxjFbv"
      }
    },
    {
      "cell_type": "markdown",
      "source": [
        "Part 3.1 - Calculate the standard error and t-statistic for the coefficients"
      ],
      "metadata": {
        "id": "IcUrVDDKjJAr"
      }
    },
    {
      "cell_type": "code",
      "source": [
        "X_train_sm = sm.add_constant(X_train)  # Adding a constant for the intercept\n",
        "model_sm = sm.OLS(Y_train, X_train_sm).fit()\n",
        "print(model_sm.summary())\n"
      ],
      "metadata": {
        "id": "qnTONHrHjK3m"
      },
      "execution_count": null,
      "outputs": []
    },
    {
      "cell_type": "markdown",
      "source": [
        "Part 3.2 - Sort all the coefficients based on the cdf. Generate the scatter plots for the other features considering price as dependent variable."
      ],
      "metadata": {
        "id": "-bqdU_x3jMdU"
      }
    },
    {
      "cell_type": "code",
      "source": [
        "plt.scatter(X_test['Avg. Area Income'], Y_test, color='blue')\n",
        "plt.plot(X_test['Avg. Area Income'], model.predict(X_test), color='red')\n",
        "plt.title('Avg. Area Income vs Price')\n",
        "plt.xlabel('Avg. Area Income')\n",
        "plt.ylabel('Price')\n",
        "plt.show()\n"
      ],
      "metadata": {
        "id": "vrEP8DRFjOxK"
      },
      "execution_count": null,
      "outputs": []
    },
    {
      "cell_type": "markdown",
      "source": [
        " Part 3.3 - Compute the R2 for the coefficients using metrics.r2_score()"
      ],
      "metadata": {
        "id": "djxjf3XVjQuP"
      }
    },
    {
      "cell_type": "code",
      "source": [
        "r2_score = metrics.r2_score(Y_test, model.predict(X_test))\n",
        "print(f\"R^2 score: {r2_score}\")\n"
      ],
      "metadata": {
        "id": "U1QSEYTmjUO1"
      },
      "execution_count": null,
      "outputs": []
    },
    {
      "cell_type": "markdown",
      "source": [
        "Part 3.4 - Plot the predictions of Linear Regression Model - histogram, scatterplot"
      ],
      "metadata": {
        "id": "5IOhGbfEjV4Z"
      }
    },
    {
      "cell_type": "code",
      "source": [
        "plt.hist(Y_test - model.predict(X_test), bins=20)\n",
        "plt.title('Histogram of Prediction Errors')\n",
        "plt.xlabel('Prediction Error')\n",
        "plt.ylabel('Frequency')\n",
        "plt.show()\n"
      ],
      "metadata": {
        "id": "ynuzER01jYZP"
      },
      "execution_count": null,
      "outputs": []
    },
    {
      "cell_type": "markdown",
      "source": [
        "Part 3.5 - Generate the evaluation regression error metrics - MAE, SSE, RMSE, R2 using metrics"
      ],
      "metadata": {
        "id": "08AeeSOhjZ_B"
      }
    },
    {
      "cell_type": "code",
      "source": [
        "mae = metrics.mean_absolute_error(Y_test, model.predict(X_test))\n",
        "mse = metrics.mean_squared_error(Y_test, model.predict(X_test))\n",
        "rmse = mse**0.5\n",
        "r2 = metrics.r2_score(Y_test, model.predict(X_test))\n",
        "\n",
        "print(f\"MAE: {mae}\")\n",
        "print(f\"MSE: {mse}\")\n",
        "print(f\"RMSE: {rmse}\")\n",
        "print(f\"R^2: {r2}\")"
      ],
      "metadata": {
        "id": "A-4ZfKnkjb1W"
      },
      "execution_count": null,
      "outputs": []
    },
    {
      "cell_type": "markdown",
      "source": [
        "#Part 4 - Compute the MinMax value between Observed Price and Expected Price for the US Housing Data."
      ],
      "metadata": {
        "id": "4ds0eA3HjeGi"
      }
    },
    {
      "cell_type": "markdown",
      "source": [
        "Part 4.1 - Write the python code to compute MinMax value of a Feature within Housing data."
      ],
      "metadata": {
        "id": "QV98M-jljtvy"
      }
    },
    {
      "cell_type": "code",
      "source": [
        "def min_max_scaling(series):\n",
        "    return (series - series.min()) / (series.max() - series.min())\n",
        "\n",
        "# Normalize the 'Price' column\n",
        "df['Price_Normalized'] = min_max_scaling(df['Price'])"
      ],
      "metadata": {
        "id": "E2j9Alyojwiu"
      },
      "execution_count": null,
      "outputs": []
    },
    {
      "cell_type": "markdown",
      "source": [
        "Part 4.2 - Normalize the data and Print the MinMax value, plot the distribution of feature."
      ],
      "metadata": {
        "id": "ZaRcUrdMjxq2"
      }
    },
    {
      "cell_type": "code",
      "source": [
        "print(df['Price_Normalized'])\n",
        "\n",
        "plt.hist(df['Price_Normalized'], bins=20)\n",
        "plt.title('Distribution of Normalized Price')\n",
        "plt.xlabel('Normalized Price')\n",
        "plt.ylabel('Frequency')\n",
        "plt.show()"
      ],
      "metadata": {
        "id": "7V28iPb9j0Fr"
      },
      "execution_count": null,
      "outputs": []
    }
  ]
}